{
  "nbformat": 4,
  "nbformat_minor": 0,
  "metadata": {
    "colab": {
      "name": "Work.ipynb",
      "provenance": [],
      "authorship_tag": "ABX9TyM7q5avKOUri8w+xL/mrBMp",
      "include_colab_link": true
    },
    "kernelspec": {
      "name": "python3",
      "display_name": "Python 3"
    }
  },
  "cells": [
    {
      "cell_type": "markdown",
      "metadata": {
        "id": "view-in-github",
        "colab_type": "text"
      },
      "source": [
        "<a href=\"https://colab.research.google.com/github/Shiv2183/StaffOptimization/blob/main/Work.ipynb\" target=\"_parent\"><img src=\"https://colab.research.google.com/assets/colab-badge.svg\" alt=\"Open In Colab\"/></a>"
      ]
    },
    {
      "cell_type": "code",
      "metadata": {
        "id": "evNAXnQYc4Qs"
      },
      "source": [
        "!pip install pyomo\r\n",
        "!sudo apt install libglpk-dev python3.6-dev libgmp3-dev\r\n",
        "!pip install glpk"
      ],
      "execution_count": 16,
      "outputs": []
    },
    {
      "cell_type": "code",
      "metadata": {
        "colab": {
          "base_uri": "https://localhost:8080/"
        },
        "id": "cqjlFaQRjzpu",
        "outputId": "90f51574-741a-4e9c-b836-6aafd4521230"
      },
      "source": [
        "!git clone https://github.com/Shiv2183/StaffOptimization.git"
      ],
      "execution_count": 18,
      "outputs": [
        {
          "output_type": "stream",
          "text": [
            "Cloning into 'StaffOptimization'...\n",
            "remote: Enumerating objects: 16, done.\u001b[K\n",
            "remote: Counting objects: 100% (16/16), done.\u001b[K\n",
            "remote: Compressing objects: 100% (14/14), done.\u001b[K\n",
            "remote: Total 16 (delta 6), reused 0 (delta 0), pack-reused 0\u001b[K\n",
            "Unpacking objects: 100% (16/16), done.\n"
          ],
          "name": "stdout"
        }
      ]
    },
    {
      "cell_type": "code",
      "metadata": {
        "id": "6ITTR0fLbboP"
      },
      "source": [
        "# Importing Libraries \r\n",
        "\r\n",
        "import pandas as pd\r\n",
        "import numpy as np\r\n",
        "import math\r\n",
        "from pyomo.environ import *"
      ],
      "execution_count": 8,
      "outputs": []
    },
    {
      "cell_type": "code",
      "metadata": {
        "id": "PIazGMa2dSce"
      },
      "source": [
        "from __future__ import division\r\n",
        "from pyomo.opt import SolverFactory"
      ],
      "execution_count": 10,
      "outputs": []
    },
    {
      "cell_type": "code",
      "metadata": {
        "id": "3LBXEO54dnCM"
      },
      "source": [
        "# Reading the data from Excel workbook"
      ],
      "execution_count": 11,
      "outputs": []
    },
    {
      "cell_type": "code",
      "metadata": {
        "id": "bu6A-asflCv1"
      },
      "source": [
        "demand = pd.read_excel('/content/StaffOptimization/Staffing+Data.xlsx', sheet_name =0)\r\n",
        "StaffAvailability = pd.read_excel('/content/StaffOptimization/Staffing+Data.xlsx', sheet_name =1)\r\n",
        "Cost = pd.read_excel('/content/StaffOptimization/Staffing+Data.xlsx', sheet_name =2)\r\n",
        "ServiceRate = pd.read_excel('/content/StaffOptimization/Staffing+Data.xlsx', sheet_name =3)"
      ],
      "execution_count": 21,
      "outputs": []
    },
    {
      "cell_type": "code",
      "metadata": {
        "colab": {
          "base_uri": "https://localhost:8080/",
          "height": 137
        },
        "id": "-JgJQgSfoPw6",
        "outputId": "a4038e0f-5666-46e7-f85e-90b5ea5db3bd"
      },
      "source": [
        "demand.head(3)"
      ],
      "execution_count": 22,
      "outputs": [
        {
          "output_type": "execute_result",
          "data": {
            "text/html": [
              "<div>\n",
              "<style scoped>\n",
              "    .dataframe tbody tr th:only-of-type {\n",
              "        vertical-align: middle;\n",
              "    }\n",
              "\n",
              "    .dataframe tbody tr th {\n",
              "        vertical-align: top;\n",
              "    }\n",
              "\n",
              "    .dataframe thead th {\n",
              "        text-align: right;\n",
              "    }\n",
              "</style>\n",
              "<table border=\"1\" class=\"dataframe\">\n",
              "  <thead>\n",
              "    <tr style=\"text-align: right;\">\n",
              "      <th></th>\n",
              "      <th>State</th>\n",
              "      <th>Month</th>\n",
              "      <th>Demand</th>\n",
              "    </tr>\n",
              "  </thead>\n",
              "  <tbody>\n",
              "    <tr>\n",
              "      <th>0</th>\n",
              "      <td>A</td>\n",
              "      <td>Jan</td>\n",
              "      <td>5240</td>\n",
              "    </tr>\n",
              "    <tr>\n",
              "      <th>1</th>\n",
              "      <td>A</td>\n",
              "      <td>Feb</td>\n",
              "      <td>4878</td>\n",
              "    </tr>\n",
              "    <tr>\n",
              "      <th>2</th>\n",
              "      <td>A</td>\n",
              "      <td>Mar</td>\n",
              "      <td>5942</td>\n",
              "    </tr>\n",
              "  </tbody>\n",
              "</table>\n",
              "</div>"
            ],
            "text/plain": [
              "  State Month  Demand\n",
              "0     A   Jan    5240\n",
              "1     A   Feb    4878\n",
              "2     A   Mar    5942"
            ]
          },
          "metadata": {
            "tags": []
          },
          "execution_count": 22
        }
      ]
    },
    {
      "cell_type": "code",
      "metadata": {
        "colab": {
          "base_uri": "https://localhost:8080/",
          "height": 137
        },
        "id": "YvvZ5PVfoS5a",
        "outputId": "eaf7e9d6-387a-4c0e-b884-547957a06de5"
      },
      "source": [
        "StaffAvailability.head(3)"
      ],
      "execution_count": 23,
      "outputs": [
        {
          "output_type": "execute_result",
          "data": {
            "text/html": [
              "<div>\n",
              "<style scoped>\n",
              "    .dataframe tbody tr th:only-of-type {\n",
              "        vertical-align: middle;\n",
              "    }\n",
              "\n",
              "    .dataframe tbody tr th {\n",
              "        vertical-align: top;\n",
              "    }\n",
              "\n",
              "    .dataframe thead th {\n",
              "        text-align: right;\n",
              "    }\n",
              "</style>\n",
              "<table border=\"1\" class=\"dataframe\">\n",
              "  <thead>\n",
              "    <tr style=\"text-align: right;\">\n",
              "      <th></th>\n",
              "      <th>State</th>\n",
              "      <th>Month</th>\n",
              "      <th>LB</th>\n",
              "      <th>UB</th>\n",
              "      <th>StaffAvPer</th>\n",
              "    </tr>\n",
              "  </thead>\n",
              "  <tbody>\n",
              "    <tr>\n",
              "      <th>0</th>\n",
              "      <td>A</td>\n",
              "      <td>Jan</td>\n",
              "      <td>0.70</td>\n",
              "      <td>0.90</td>\n",
              "      <td>0.81</td>\n",
              "    </tr>\n",
              "    <tr>\n",
              "      <th>1</th>\n",
              "      <td>A</td>\n",
              "      <td>Feb</td>\n",
              "      <td>0.65</td>\n",
              "      <td>0.85</td>\n",
              "      <td>0.76</td>\n",
              "    </tr>\n",
              "    <tr>\n",
              "      <th>2</th>\n",
              "      <td>A</td>\n",
              "      <td>Mar</td>\n",
              "      <td>0.70</td>\n",
              "      <td>0.80</td>\n",
              "      <td>0.75</td>\n",
              "    </tr>\n",
              "  </tbody>\n",
              "</table>\n",
              "</div>"
            ],
            "text/plain": [
              "  State Month    LB    UB  StaffAvPer\n",
              "0     A   Jan  0.70  0.90        0.81\n",
              "1     A   Feb  0.65  0.85        0.76\n",
              "2     A   Mar  0.70  0.80        0.75"
            ]
          },
          "metadata": {
            "tags": []
          },
          "execution_count": 23
        }
      ]
    },
    {
      "cell_type": "code",
      "metadata": {
        "colab": {
          "base_uri": "https://localhost:8080/",
          "height": 137
        },
        "id": "BC-ot7jOoZKX",
        "outputId": "f83d0c67-c799-4338-e1ce-2c82886b7d9c"
      },
      "source": [
        "Cost.head(3)"
      ],
      "execution_count": 24,
      "outputs": [
        {
          "output_type": "execute_result",
          "data": {
            "text/html": [
              "<div>\n",
              "<style scoped>\n",
              "    .dataframe tbody tr th:only-of-type {\n",
              "        vertical-align: middle;\n",
              "    }\n",
              "\n",
              "    .dataframe tbody tr th {\n",
              "        vertical-align: top;\n",
              "    }\n",
              "\n",
              "    .dataframe thead th {\n",
              "        text-align: right;\n",
              "    }\n",
              "</style>\n",
              "<table border=\"1\" class=\"dataframe\">\n",
              "  <thead>\n",
              "    <tr style=\"text-align: right;\">\n",
              "      <th></th>\n",
              "      <th>State</th>\n",
              "      <th>Month</th>\n",
              "      <th>AnnualSalary</th>\n",
              "      <th>MonthlySalary</th>\n",
              "      <th>UnitOutSourceCost</th>\n",
              "    </tr>\n",
              "  </thead>\n",
              "  <tbody>\n",
              "    <tr>\n",
              "      <th>0</th>\n",
              "      <td>A</td>\n",
              "      <td>Jan</td>\n",
              "      <td>60000</td>\n",
              "      <td>5000.0</td>\n",
              "      <td>180</td>\n",
              "    </tr>\n",
              "    <tr>\n",
              "      <th>1</th>\n",
              "      <td>A</td>\n",
              "      <td>Feb</td>\n",
              "      <td>60000</td>\n",
              "      <td>5000.0</td>\n",
              "      <td>180</td>\n",
              "    </tr>\n",
              "    <tr>\n",
              "      <th>2</th>\n",
              "      <td>A</td>\n",
              "      <td>Mar</td>\n",
              "      <td>60000</td>\n",
              "      <td>5000.0</td>\n",
              "      <td>180</td>\n",
              "    </tr>\n",
              "  </tbody>\n",
              "</table>\n",
              "</div>"
            ],
            "text/plain": [
              "  State Month  AnnualSalary  MonthlySalary  UnitOutSourceCost\n",
              "0     A   Jan         60000         5000.0                180\n",
              "1     A   Feb         60000         5000.0                180\n",
              "2     A   Mar         60000         5000.0                180"
            ]
          },
          "metadata": {
            "tags": []
          },
          "execution_count": 24
        }
      ]
    },
    {
      "cell_type": "code",
      "metadata": {
        "colab": {
          "base_uri": "https://localhost:8080/",
          "height": 77
        },
        "id": "e0ppCg9pocvK",
        "outputId": "21f3faf3-12e7-4ac2-e33d-69979440125e"
      },
      "source": [
        "ServiceRate.head(3)"
      ],
      "execution_count": 25,
      "outputs": [
        {
          "output_type": "execute_result",
          "data": {
            "text/html": [
              "<div>\n",
              "<style scoped>\n",
              "    .dataframe tbody tr th:only-of-type {\n",
              "        vertical-align: middle;\n",
              "    }\n",
              "\n",
              "    .dataframe tbody tr th {\n",
              "        vertical-align: top;\n",
              "    }\n",
              "\n",
              "    .dataframe thead th {\n",
              "        text-align: right;\n",
              "    }\n",
              "</style>\n",
              "<table border=\"1\" class=\"dataframe\">\n",
              "  <thead>\n",
              "    <tr style=\"text-align: right;\">\n",
              "      <th></th>\n",
              "      <th>MgAppServedPerMonth</th>\n",
              "    </tr>\n",
              "  </thead>\n",
              "  <tbody>\n",
              "    <tr>\n",
              "      <th>0</th>\n",
              "      <td>40</td>\n",
              "    </tr>\n",
              "  </tbody>\n",
              "</table>\n",
              "</div>"
            ],
            "text/plain": [
              "   MgAppServedPerMonth\n",
              "0                   40"
            ]
          },
          "metadata": {
            "tags": []
          },
          "execution_count": 25
        }
      ]
    },
    {
      "cell_type": "markdown",
      "metadata": {
        "id": "nyiXBRG2ceNh"
      },
      "source": [
        "# Data pre-processing"
      ]
    },
    {
      "cell_type": "code",
      "metadata": {
        "id": "CKQSVOd0d2JM"
      },
      "source": [
        "# Create the required Python data structures for indexes and parameters"
      ],
      "execution_count": 12,
      "outputs": []
    },
    {
      "cell_type": "markdown",
      "metadata": {
        "id": "ALT-oZVTd--k"
      },
      "source": [
        "# Question 1\r\n",
        "The company wants to know the optimised staffing recommendations for the business case described. Write the mathematical model for the deterministic optimisation problem. Define and explain your decision variables, objective function and the constraint. (Hint: Use months of the year as the model timeline)."
      ]
    },
    {
      "cell_type": "markdown",
      "metadata": {
        "id": "ZGlO4OOEeFEc"
      },
      "source": [
        "**Note:** You can write the mathematical formulation directly in your report."
      ]
    },
    {
      "cell_type": "markdown",
      "metadata": {
        "id": "FSI_KhwzeJzU"
      },
      "source": [
        "# Question 2\r\n",
        "Code the problem is Python and use any optimization package to solve it. Add comments to your code to explain each step.\r\n",
        "\r\n",
        "**Expected output:**\r\n",
        "Create a data frame containing the number of outsourced applications and the number of FTEs for each state-month combination. You can choose to have extra columns like staff availability, demand etc. in your dataframe apart from the ones mentioned earlier."
      ]
    },
    {
      "cell_type": "code",
      "metadata": {
        "id": "5_QhIXRheUQc"
      },
      "source": [
        "# Creating a model instance"
      ],
      "execution_count": null,
      "outputs": []
    },
    {
      "cell_type": "code",
      "metadata": {
        "id": "dLgqrBZqeVle"
      },
      "source": [
        "# Define Pyomo sets and Parameters"
      ],
      "execution_count": null,
      "outputs": []
    },
    {
      "cell_type": "code",
      "metadata": {
        "id": "NqZhbibXeX50"
      },
      "source": [
        "# Decision variables"
      ],
      "execution_count": null,
      "outputs": []
    },
    {
      "cell_type": "code",
      "metadata": {
        "id": "biXnCOkqeapU"
      },
      "source": [
        "# Constraints"
      ],
      "execution_count": null,
      "outputs": []
    },
    {
      "cell_type": "code",
      "metadata": {
        "id": "cYLeMHQgee9U"
      },
      "source": [
        "# Objective function"
      ],
      "execution_count": null,
      "outputs": []
    },
    {
      "cell_type": "code",
      "metadata": {
        "id": "RTUODWFbegNs"
      },
      "source": [
        "# Invoking the solver"
      ],
      "execution_count": null,
      "outputs": []
    },
    {
      "cell_type": "code",
      "metadata": {
        "id": "9jLexpqWei_F"
      },
      "source": [
        "# Print the value of the objective function"
      ],
      "execution_count": null,
      "outputs": []
    },
    {
      "cell_type": "markdown",
      "metadata": {
        "id": "-bi9P8Adeq_O"
      },
      "source": [
        "**Checkpoint 1:** Seems like the company has to spend around 17.9 m$ in total for the application approval process."
      ]
    },
    {
      "cell_type": "code",
      "metadata": {
        "id": "ld9tKJDhel1G"
      },
      "source": [
        "# Creating dataframe for the results"
      ],
      "execution_count": null,
      "outputs": []
    },
    {
      "cell_type": "code",
      "metadata": {
        "id": "cCA2dT6mez-N"
      },
      "source": [
        "# Writing the results in to an Excel sheet"
      ],
      "execution_count": null,
      "outputs": []
    },
    {
      "cell_type": "markdown",
      "metadata": {
        "id": "20fbFOb-e7cG"
      },
      "source": [
        "# Question 3\r\n",
        "\r\n",
        "**Worst-case and best-case analysis based on the staffs' availability.**\r\n",
        "Assuming that the distribution is the same across all the states,\r\n",
        "\r\n",
        "**3.1 Worst case analysis**\r\n",
        "\r\n",
        "*   3.1.1 What is the optimal number of staff members for the worst case? \r\n",
        "*   3.1.2 What is the percentage of outsourcing for the worst case?\r\n",
        "*   3.1.3 What is the average cost per application for the worst case?\r\n",
        "\r\n",
        "**3.2 Best case analysis**\r\n",
        "\r\n",
        "\r\n",
        "*   3.2.1 What is the optimal number of staff members List item \r\n",
        "for the best case?\r\n",
        "*   3.2.2 What is the percentage of outsourcing for the best case? \r\n",
        "*   3.2.3 What is the average cost per application for the best case?\r\n",
        "\r\n",
        "**Expected output:**\r\n",
        "For each of the subtasks (3.1 and 3.2) create a data frame containing the number of outsourced applications and the number of FTEs for each state-month combination. You can choose to have extra columns like staff availability, demand etc. in your dataframe apart from the ones mentioned earlier. Also, print the overall average percentage of outsourced applications and the overall average cost per application."
      ]
    },
    {
      "cell_type": "markdown",
      "metadata": {
        "id": "0mH9jbxfgGSG"
      },
      "source": [
        "#### 3.1 Worst Case Analysis\r\n",
        "**3.1.1 Optimal number of staff members**"
      ]
    },
    {
      "cell_type": "code",
      "metadata": {
        "id": "bT6_khYwgnF0"
      },
      "source": [
        "# Creating a model instance"
      ],
      "execution_count": null,
      "outputs": []
    },
    {
      "cell_type": "code",
      "metadata": {
        "id": "XDe8R7t3gt5X"
      },
      "source": [
        "# Define Pyomo sets and Parameters"
      ],
      "execution_count": null,
      "outputs": []
    },
    {
      "cell_type": "code",
      "metadata": {
        "id": "IvpNulr9gvwN"
      },
      "source": [
        "# Decision variables"
      ],
      "execution_count": null,
      "outputs": []
    },
    {
      "cell_type": "code",
      "metadata": {
        "id": "a_26jY4ggyul"
      },
      "source": [
        "# Constraints"
      ],
      "execution_count": null,
      "outputs": []
    },
    {
      "cell_type": "code",
      "metadata": {
        "id": "0W30dN10gzqN"
      },
      "source": [
        "# Objective function"
      ],
      "execution_count": null,
      "outputs": []
    },
    {
      "cell_type": "code",
      "metadata": {
        "id": "lnpN-ypAg13l"
      },
      "source": [
        "# Invoking the solver"
      ],
      "execution_count": null,
      "outputs": []
    },
    {
      "cell_type": "code",
      "metadata": {
        "id": "tv9QwDXWg30F"
      },
      "source": [
        "# Print the value of the objective function"
      ],
      "execution_count": null,
      "outputs": []
    },
    {
      "cell_type": "markdown",
      "metadata": {
        "id": "bC1J66GJhBad"
      },
      "source": [
        "**Checkpoint 2: The company has to spend around 19.6 m$ in total for the application approval process if the staffs are working with the minimum availability.**"
      ]
    },
    {
      "cell_type": "code",
      "metadata": {
        "id": "pp_7otLthIDt"
      },
      "source": [
        "# Creating dataframe for the results"
      ],
      "execution_count": null,
      "outputs": []
    },
    {
      "cell_type": "markdown",
      "metadata": {
        "id": "XkXqEyqHhSqu"
      },
      "source": [
        "**3.1.2 Percentage of outsourced applications**"
      ]
    },
    {
      "cell_type": "code",
      "metadata": {
        "id": "Uveomc-4hJkU"
      },
      "source": [
        "# write your code here"
      ],
      "execution_count": null,
      "outputs": []
    },
    {
      "cell_type": "markdown",
      "metadata": {
        "id": "niFjhrethau2"
      },
      "source": [
        "**3.1.3 Average cost per application**"
      ]
    },
    {
      "cell_type": "code",
      "metadata": {
        "id": "lSgeYOF8g7Yd"
      },
      "source": [
        "# write your code here"
      ],
      "execution_count": null,
      "outputs": []
    },
    {
      "cell_type": "markdown",
      "metadata": {
        "id": "52uykRkDhrl9"
      },
      "source": [
        "#### 3.2 Best Case Analysis"
      ]
    },
    {
      "cell_type": "markdown",
      "metadata": {
        "id": "kL1u6YX1h0js"
      },
      "source": [
        "**3.2.1 Optimal number of staff members**"
      ]
    },
    {
      "cell_type": "code",
      "metadata": {
        "id": "e33iWVgvhmLE"
      },
      "source": [
        "# Creating a model instance"
      ],
      "execution_count": null,
      "outputs": []
    },
    {
      "cell_type": "code",
      "metadata": {
        "id": "9UMhwScPh8Gs"
      },
      "source": [
        "# Define Pyomo sets and Parameters"
      ],
      "execution_count": null,
      "outputs": []
    },
    {
      "cell_type": "code",
      "metadata": {
        "id": "xKXo0Px7h-7X"
      },
      "source": [
        "# Decision variables"
      ],
      "execution_count": null,
      "outputs": []
    },
    {
      "cell_type": "code",
      "metadata": {
        "id": "DUgJOWNpiB89"
      },
      "source": [
        "# Constraints"
      ],
      "execution_count": null,
      "outputs": []
    },
    {
      "cell_type": "code",
      "metadata": {
        "id": "9AYlIw89iFtV"
      },
      "source": [
        "# Objective function"
      ],
      "execution_count": null,
      "outputs": []
    },
    {
      "cell_type": "code",
      "metadata": {
        "id": "FDgpKhdAiHmF"
      },
      "source": [
        "# Invoking the solver"
      ],
      "execution_count": null,
      "outputs": []
    },
    {
      "cell_type": "code",
      "metadata": {
        "id": "xd-gMIgliKJU"
      },
      "source": [
        "# Print the value of the objective function"
      ],
      "execution_count": null,
      "outputs": []
    },
    {
      "cell_type": "markdown",
      "metadata": {
        "id": "_eKxqCWjiPPk"
      },
      "source": [
        "**Checkpoint 3: The company has to spend around 16.5 m$ in total for the application approval process if the staffs are working with the maximum availability.**"
      ]
    },
    {
      "cell_type": "code",
      "metadata": {
        "id": "miaxbNQEiM9Q"
      },
      "source": [
        "\r\n",
        "# Creating dataframe for the results"
      ],
      "execution_count": null,
      "outputs": []
    },
    {
      "cell_type": "markdown",
      "metadata": {
        "id": "aVu3_mrAiWDm"
      },
      "source": [
        "**3.2.2 Percentage of outsourced applications**"
      ]
    },
    {
      "cell_type": "code",
      "metadata": {
        "id": "H2kf23KiiT2N"
      },
      "source": [
        "# write your code here"
      ],
      "execution_count": null,
      "outputs": []
    },
    {
      "cell_type": "markdown",
      "metadata": {
        "id": "Ufkmrug7ib9n"
      },
      "source": [
        "**3.2.3 Average cost per application**"
      ]
    },
    {
      "cell_type": "code",
      "metadata": {
        "id": "F7Ecji27iaIN"
      },
      "source": [
        "# write your code here"
      ],
      "execution_count": null,
      "outputs": []
    },
    {
      "cell_type": "markdown",
      "metadata": {
        "id": "QfcjEo3LgXE2"
      },
      "source": [
        "# Question 4\r\n",
        "**Creating Visualisations**\r\n",
        "Create the following visualisations using your preferred method (i.e. Python, PowerPoint, Power BI, etc.) and add it to your report. \r\n",
        "\r\n",
        "Use the solution of Q2 to create a stacked column chart that shows the percentage of applications processed by the staff and by the vendor for each month (%staff processed applications+ %vendor processed applications should add up to 100%).  Create a graph to show how the cost per application increases with respect to any change in the parameters in your analysis. Hint: Use the cost per application that you calculate in Questions 2 and 3 (i.e., the best case, and the worst case). \r\n",
        "\r\n",
        "**Note:** You can create the charts in Python or some other visualisation tools and make it a part of your final report directly."
      ]
    },
    {
      "cell_type": "code",
      "metadata": {
        "id": "CyomYJSfeB9t"
      },
      "source": [
        ""
      ],
      "execution_count": null,
      "outputs": []
    }
  ]
}